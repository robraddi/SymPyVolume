{
 "cells": [
  {
   "cell_type": "markdown",
   "metadata": {},
   "source": [
    "# Examples\n",
    "\n",
    "\n",
    "Let's start with something basic:\n",
    "\n",
    "Here's a very simple plot of $x/y$, where $0 < x < 10$, and where $0 < y < 10$\n",
    "\n",
    "```bash\n",
    "plot --Fn \"x/y\" --x \"[0,10]\" --y \"[0,10]\"\n",
    "```\n",
    "\n",
    "<iframe src=\"images/xFracy.html\" width=\"500\" height=\"500\" align=\"center\"></iframe>\n",
    "\n",
    "\n",
    "\n",
    "```bash\n",
    "plot --Fn \"sin(x)*cos(y)\" --x \"[0,10\" --y \"[0,10]\"\n",
    "```\n",
    "\n",
    "<iframe src=\"images/sin{x}dotcos{y}.html\" width=\"500\" height=\"500\" align=\"center\"></iframe>\n",
    "\n",
    "\n",
    "We can even add more than one plot in the same figure by seperating the functions by a semicolon.\n",
    "\n",
    "```bash\n",
    "plot --Fn \"sin(y)*sin(x);0.01*x-0.1*y\" --x \"[0,10]\" --y \"[0,10]\" \n",
    "```\n",
    "\n",
    "<iframe src=\"images/sin{y}dotsin{x}_and_0.01dotx-0.1doty.html\" width=\"500\" height=\"500\" align=\"center\"></iframe>\n",
    "\n",
    "\n",
    "\n",
    "You can even add axis labels...\n",
    "\n",
    "```bash\n",
    "plot --Fn \"4*pi*x**(2)*(.001/(2*pi*y))**(3/2)*exp(-.001*x**(2)/(2*y))\" --axis-labels \"\\nu(m/s),T(K),F(\\nu)(s/m)\" --x \"[0,1000]\" --y \"[0,1000]\" --z \"[0,0.0095]\"\n",
    "\n",
    "```\n",
    "\n",
    "<iframe src=\"images/4dotpidotx^{2}dot{.001Frac{2dotpidoty}}^{3Frac2}dotexp{-.001dotx^{2}Frac{2doty}}.html\" width=\"500\" height=\"500\" align=\"center\"></iframe>\n",
    "\n",
    "\n",
    "\n",
    "\n",
    "```bash\n",
    "plot --Fn \"1/sqrt(x**2+y**2)\"\n",
    "```\n",
    "\n",
    "<iframe src=\"images/1Fracsqrt{x^2+y^2}.html\" width=\"500\" height=\"500\" align=\"center\"></iframe>\n",
    "\n",
    "\n",
    "\n",
    "\n",
    "\n",
    "\n"
   ]
  },
  {
   "cell_type": "markdown",
   "metadata": {},
   "source": []
  }
 ],
 "metadata": {
  "kernelspec": {
   "display_name": "Python 3",
   "language": "python",
   "name": "python3"
  },
  "language_info": {
   "codemirror_mode": {
    "name": "ipython",
    "version": 3
   },
   "file_extension": ".py",
   "mimetype": "text/x-python",
   "name": "python",
   "nbconvert_exporter": "python",
   "pygments_lexer": "ipython3",
   "version": "3.7.3"
  }
 },
 "nbformat": 4,
 "nbformat_minor": 2
}
